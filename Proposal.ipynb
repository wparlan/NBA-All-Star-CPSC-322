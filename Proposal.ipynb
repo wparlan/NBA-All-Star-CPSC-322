{
 "cells": [
  {
   "cell_type": "markdown",
   "metadata": {},
   "source": [
    "# Propose the Project\n",
    "Aaron Miller and William Parlan: NBA All-Star by Smashmouth"
   ]
  },
  {
   "cell_type": "markdown",
   "metadata": {},
   "source": [
    "## Dataset description\n",
    "#### Source: [Basketball Reference](https://www.basketball-reference.com/leagues/NBA_2021_per_game.html)\n",
    "#### Format: CSV or excel spreadsheet  \n",
    "#### Contents:  \n",
    "|Attribute|Name in Dataset|Description|\n",
    "|--|--|--|\n",
    "|Points|PTS|Points Scored|\n",
    "|Field Goal Percentage|FG%|Field Goals Attempted dividebd by Field Goals Made \n",
    "|Effective Field Goal Percentage|eFG|Field Goal Percentage adjust by the fact that free throws are worth one points and 3-Point Field Goals are worth three\n",
    "|Total Rebounds|TRB|Combined total of offensive and defensive rebounds\n",
    "|Player Efficiency Rating|PER|A measure of per-minute production standardized such that the league average is 15\n",
    "|Offensive Win Shares|OWS|An estimate of the number of wins contributed by a player due to offense\n",
    "|Defensive Win Shares|DWS|An estimate of the number of wins contributed by a player due to defense\n",
    "|Offensive Box Plus Minus|OBPM|A box score estimate of the offensive points per 100 possesions a player contributed above a league-average player, translated to an average team\n",
    "|Defensive Box Plus Minus|DBPM|A box score estimate of the defensive points per 100 possesions a player contributed above a league-average player, translated to an average team\n",
    "|Value Over Replacement Player|VORP|A box score estimate of the points per 100 TEAM possesions that a player contributed above a replacement-level (-2.0) player, translated to an average team and prorated to an 82-game season. Multiply by 2.70 to convert to wins over replacement\n",
    "\n",
    "\n"
   ]
  },
  {
   "cell_type": "markdown",
   "metadata": {},
   "source": [
    "### Classification information\n",
    "The main goal of this dataset is to be able to predict All star status (no/False, yes/True).  \n",
    "An extrapolation from this project is to able to find players that are close to being All-Stars, being only deficient in minor aspects.\n"
   ]
  },
  {
   "cell_type": "markdown",
   "metadata": {},
   "source": [
    "### Anticipated challenges in pre-processing and/or classification\n",
    "One of the main limiting factors is games played.  \n",
    "Some players will have outstanding statistics, however have only played 7 total games.  \n",
    "Thus we need to clean the dataset by removing low game count players before predictions can begin.  "
   ]
  },
  {
   "cell_type": "markdown",
   "metadata": {},
   "source": [
    "### How will you explore feature selection techniques to pare down the attributes?\n",
    "We have a list of advanced attributes which we will use sparingly/only on some select trees.  \n",
    "This is becaue the stats themselves are derived from other stats, making them further removed from the data itself.  "
   ]
  },
  {
   "cell_type": "markdown",
   "metadata": {},
   "source": [
    "### Potential impact of the results\n",
    "We can use the results to look at future All-Star selections and determine who actually deserves to be an All-Star.  \n",
    " Every year there is talk about All-Star snubs and our project could determine who those actually are which could change how people see what an All-Star is supposed to be. \n"
   ]
  },
  {
   "cell_type": "markdown",
   "metadata": {},
   "source": [
    "### Who are stakeholders (users/groups that are impacted by the outcome of the project) interested in these results?\n",
    "NBA fans and sports fans in general.  \n",
    "Being considered an All Star is one of the highest honors among basketball players."
   ]
  }
 ],
 "metadata": {
  "interpreter": {
   "hash": "d4d1e4263499bec80672ea0156c357c1ee493ec2b1c70f0acce89fc37c4a6abe"
  },
  "kernelspec": {
   "display_name": "Python 3.9.7 ('base')",
   "language": "python",
   "name": "python3"
  },
  "language_info": {
   "name": "python",
   "version": "3.9.7"
  },
  "orig_nbformat": 4
 },
 "nbformat": 4,
 "nbformat_minor": 2
}
