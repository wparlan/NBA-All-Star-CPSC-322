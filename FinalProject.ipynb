{
 "cells": [
  {
   "cell_type": "markdown",
   "metadata": {},
   "source": [
    "## Import libraries and packages"
   ]
  },
  {
   "cell_type": "code",
   "execution_count": 1,
   "metadata": {},
   "outputs": [],
   "source": [
    "# some useful mysklearn package import statements and reloads\n",
    "import importlib\n",
    "\n",
    "import mysklearn.myutils\n",
    "importlib.reload(mysklearn.myutils)\n",
    "import mysklearn.myutils as myutils\n",
    "\n",
    "# uncomment once you paste your mypytable.py into mysklearn package\n",
    "import mysklearn.mypytable\n",
    "importlib.reload(mysklearn.mypytable)\n",
    "from mysklearn.mypytable import MyPyTable \n",
    "\n",
    "# uncomment once you paste your myclassifiers.py into mysklearn package\n",
    "import mysklearn.myclassifiers\n",
    "importlib.reload(mysklearn.myclassifiers)\n",
    "from mysklearn.myclassifiers import MyKNeighborsClassifier, MyDummyClassifier, MyNaiveBayesClassifier, MyDecisionTreeClassifier\n",
    "\n",
    "import mysklearn.myevaluation\n",
    "importlib.reload(mysklearn.myevaluation)\n",
    "import mysklearn.myevaluation as myevaluation"
   ]
  },
  {
   "cell_type": "markdown",
   "metadata": {},
   "source": [
    "# Data Import and Setup"
   ]
  },
  {
   "cell_type": "code",
   "execution_count": 2,
   "metadata": {},
   "outputs": [],
   "source": [
    "from os import path\n",
    "filename = path.join('input_data', 'AllStarData.csv')\n",
    "basketball_data = MyPyTable().load_from_file(filename)\n",
    "# set up classifiers\n",
    "knn_classifier = MyKNeighborsClassifier(n_neighbors=10)\n",
    "dummy_classifier = MyDummyClassifier()\n",
    "nb_classifier = MyNaiveBayesClassifier()\n",
    "decision_tree = MyDecisionTreeClassifier()\n",
    "classifiers = [knn_classifier, dummy_classifier, nb_classifier]#, decision_tree]\n",
    "# Other vars\n",
    "RANDOM_STATE = 6"
   ]
  },
  {
   "cell_type": "markdown",
   "metadata": {},
   "source": [
    "## Predict Using Effective Field Goal Percentage (eFG%)"
   ]
  },
  {
   "cell_type": "code",
   "execution_count": 3,
   "metadata": {},
   "outputs": [],
   "source": [
    "efg_data = basketball_data.get_column('eFG%')\n",
    "allstars = basketball_data.get_column('All-star')\n",
    "train_sets, test_sets = myevaluation.stratified_kfold_cross_validation(efg_data, allstars, n_splits=10,random_state=RANDOM_STATE)\n",
    "test_length = 0\n",
    "test_answers = []\n",
    "for test in test_sets: \n",
    "    test_answers += [allstars[index] for index in test]\n",
    "    test_length += len(test)\n",
    "classifier_results = []\n",
    "for classifier in classifiers:\n",
    "    result_set = [[], 0] # [all the predictions, total_number_true] \n",
    "    for train, test in zip(train_sets, test_sets):\n",
    "        # convert the indices to actual samples\n",
    "        x_train = [[efg_data[index]] for index in train]\n",
    "        y_train = [allstars[index] for index in train]\n",
    "        x_test = [[efg_data[index]] for index in test]\n",
    "        y_test = [allstars[index] for index in test]\n",
    "        classifier.fit(x_train, y_train)\n",
    "        prediction = classifier.predict(x_test)\n",
    "        num_true = myevaluation.accuracy_score(y_test, prediction, normalize=False)\n",
    "        result_set[0] += prediction\n",
    "        result_set[1] += num_true\n",
    "    result_set[1] /= test_length\n",
    "    classifier_results.append(result_set)"
   ]
  },
  {
   "cell_type": "code",
   "execution_count": 4,
   "metadata": {},
   "outputs": [
    {
     "name": "stdout",
     "output_type": "stream",
     "text": [
      "KNN--------------------------\n",
      "Summary:\n",
      "\tAccuracy..: 1.0\n",
      "\tError Rate: 0.0 \n",
      "\n",
      "Precision, Recall, F1:\n",
      "      precision    recall    f1    support\n",
      "--  -----------  --------  ----  ---------\n",
      "no            1         1     1        515 \n",
      "\n",
      "Confusion Matrix:\n",
      "       no    yes    Total    Recognition (%)\n",
      "---  ----  -----  -------  -----------------\n",
      "no    515      0      515                100\n",
      "yes     0      0        0                  0\n",
      "\n",
      "\n",
      "Dummy--------------------------\n",
      "Summary:\n",
      "\tAccuracy..: 1.0\n",
      "\tError Rate: 0.0 \n",
      "\n",
      "Precision, Recall, F1:\n",
      "      precision    recall    f1    support\n",
      "--  -----------  --------  ----  ---------\n",
      "no            1         1     1        515 \n",
      "\n",
      "Confusion Matrix:\n",
      "       no    yes    Total    Recognition (%)\n",
      "---  ----  -----  -------  -----------------\n",
      "no    515      0      515                100\n",
      "yes     0      0        0                  0\n",
      "\n",
      "\n",
      "Naive Bayes--------------------------\n",
      "Summary:\n",
      "\tAccuracy..: 1.0\n",
      "\tError Rate: 0.0 \n",
      "\n",
      "Precision, Recall, F1:\n",
      "      precision    recall    f1    support\n",
      "--  -----------  --------  ----  ---------\n",
      "no            1         1     1        515 \n",
      "\n",
      "Confusion Matrix:\n",
      "       no    yes    Total    Recognition (%)\n",
      "---  ----  -----  -------  -----------------\n",
      "no    515      0      515                100\n",
      "yes     0      0        0                  0\n",
      "\n",
      "\n"
     ]
    }
   ],
   "source": [
    "classifier_names = ['KNN', 'Dummy', 'Naive Bayes', 'Decision Tree']\n",
    "headers = ['no', 'yes']\n",
    "myevaluation.print_classifier_results(classifier_names, classifier_results, test_answers, headers)"
   ]
  },
  {
   "cell_type": "markdown",
   "metadata": {},
   "source": []
  }
 ],
 "metadata": {
  "interpreter": {
   "hash": "d4d1e4263499bec80672ea0156c357c1ee493ec2b1c70f0acce89fc37c4a6abe"
  },
  "kernelspec": {
   "display_name": "Python 3.9.7 ('base')",
   "language": "python",
   "name": "python3"
  },
  "language_info": {
   "codemirror_mode": {
    "name": "ipython",
    "version": 3
   },
   "file_extension": ".py",
   "mimetype": "text/x-python",
   "name": "python",
   "nbconvert_exporter": "python",
   "pygments_lexer": "ipython3",
   "version": "3.9.7"
  },
  "orig_nbformat": 4
 },
 "nbformat": 4,
 "nbformat_minor": 2
}
